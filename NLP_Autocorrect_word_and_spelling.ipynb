{
  "nbformat": 4,
  "nbformat_minor": 0,
  "metadata": {
    "colab": {
      "provenance": [],
      "authorship_tag": "ABX9TyOfpUy1okwJdEej0dbmrqb4",
      "include_colab_link": true
    },
    "kernelspec": {
      "name": "python3",
      "display_name": "Python 3"
    },
    "language_info": {
      "name": "python"
    }
  },
  "cells": [
    {
      "cell_type": "markdown",
      "metadata": {
        "id": "view-in-github",
        "colab_type": "text"
      },
      "source": [
        "<a href=\"https://colab.research.google.com/github/vigneshjv09/Task_8/blob/main/NLP_Autocorrect_word_and_spelling.ipynb\" target=\"_parent\"><img src=\"https://colab.research.google.com/assets/colab-badge.svg\" alt=\"Open In Colab\"/></a>"
      ]
    },
    {
      "cell_type": "code",
      "execution_count": 1,
      "metadata": {
        "colab": {
          "base_uri": "https://localhost:8080/"
        },
        "id": "fh_ELeOnGzJR",
        "outputId": "5e728dd5-e0cd-4511-a025-490aedc96c3a"
      },
      "outputs": [
        {
          "output_type": "stream",
          "name": "stdout",
          "text": [
            "Looking in indexes: https://pypi.org/simple, https://us-python.pkg.dev/colab-wheels/public/simple/\n",
            "Requirement already satisfied: textblob in /usr/local/lib/python3.8/dist-packages (0.15.3)\n",
            "Requirement already satisfied: nltk>=3.1 in /usr/local/lib/python3.8/dist-packages (from textblob) (3.7)\n",
            "Requirement already satisfied: click in /usr/local/lib/python3.8/dist-packages (from nltk>=3.1->textblob) (7.1.2)\n",
            "Requirement already satisfied: joblib in /usr/local/lib/python3.8/dist-packages (from nltk>=3.1->textblob) (1.2.0)\n",
            "Requirement already satisfied: tqdm in /usr/local/lib/python3.8/dist-packages (from nltk>=3.1->textblob) (4.64.1)\n",
            "Requirement already satisfied: regex>=2021.8.3 in /usr/local/lib/python3.8/dist-packages (from nltk>=3.1->textblob) (2022.6.2)\n"
          ]
        }
      ],
      "source": [
        "!pip install textblob"
      ]
    },
    {
      "cell_type": "code",
      "source": [
        "import pandas as pd\n",
        "from textblob import Word\n",
        "from textblob import TextBlob"
      ],
      "metadata": {
        "id": "qjVyOVlIH6UH"
      },
      "execution_count": 23,
      "outputs": []
    },
    {
      "cell_type": "code",
      "source": [
        "file1=pd.read_csv('/content/English.csv')"
      ],
      "metadata": {
        "id": "vCstgxyZH6Xx"
      },
      "execution_count": 3,
      "outputs": []
    },
    {
      "cell_type": "markdown",
      "source": [
        "FOR WORDS"
      ],
      "metadata": {
        "id": "D8-nOUkWIij6"
      }
    },
    {
      "cell_type": "code",
      "source": [
        "wordcount=0\n",
        "for i in file1['English words/sentences']:\n",
        "  if \" \" not in i:\n",
        "    wordcount+=1\n",
        "    tb = TextBlob(i)\n",
        "    print(i,\"=\",tb.correct())\n",
        "    if wordcount==100:\n",
        "      break\n",
        " \n"
      ],
      "metadata": {
        "colab": {
          "base_uri": "https://localhost:8080/"
        },
        "id": "gW4crkRzH6c6",
        "outputId": "bc654cd4-edaf-4660-a542-20f4415e3282"
      },
      "execution_count": 25,
      "outputs": [
        {
          "output_type": "stream",
          "name": "stdout",
          "text": [
            "Hi. = I.\n",
            "Run! = Run!\n",
            "Run! = Run!\n",
            "Who? = Who?\n",
            "Wow! = Now!\n",
            "Fire! = Fire!\n",
            "Help! = Help!\n",
            "Jump. = Jump.\n",
            "Stop! = Stop!\n",
            "Stop! = Stop!\n",
            "Stop! = Stop!\n",
            "Wait! = Wait!\n",
            "Wait! = Wait!\n",
            "Hello! = Hello!\n",
            "Hello! = Hello!\n",
            "Attack! = Attack!\n",
            "Attack! = Attack!\n",
            "Cheers! = Cheers!\n",
            "Cheers! = Cheers!\n",
            "Cheers! = Cheers!\n",
            "Cheers! = Cheers!\n",
            "Listen. = Listen.\n",
            "Really? = Really?\n",
            "Really? = Really?\n",
            "Really? = Really?\n",
            "Thanks. = Thanks.\n",
            "Awesome! = Awesome!\n",
            "Goodbye! = Goodby!\n",
            "Goodbye! = Goodby!\n",
            "Perfect! = Perfect!\n",
            "Welcome. = Welcome.\n",
            "Terrific! = Terrific!\n",
            "Terrific! = Terrific!\n",
            "Terrific! = Terrific!\n",
            "Fantastic! = Fantastic!\n",
            "Seriously? = Seriously?\n",
            "Seriously? = Seriously?\n",
            "Seriously? = Seriously?\n",
            "Wonderful! = Wonderful!\n",
            "Wonderful! = Wonderful!\n",
            "Unbelievable! = Unbelievable!\n",
            "Congratulations! = Congratulations!\n",
            "Congratulations! = Congratulations!\n",
            "Congratulations! = Congratulations!\n",
            "Congratulations! = Congratulations!\n",
            "Congratulations! = Congratulations!\n",
            "Congratulations! = Congratulations!\n"
          ]
        }
      ]
    },
    {
      "cell_type": "markdown",
      "source": [
        "FOR SENTENCES\n"
      ],
      "metadata": {
        "id": "S-JqOCnmMdU2"
      }
    },
    {
      "cell_type": "code",
      "source": [
        "sentencecount=0\n",
        "for i in file1['English words/sentences']:\n",
        "  if \" \"  in i:\n",
        "    sentencecount+=1\n",
        "    tb = TextBlob(i)\n",
        "    print(i,\"=\",tb.correct())\n",
        "    if sentencecount==100:\n",
        "      break\n",
        " "
      ],
      "metadata": {
        "colab": {
          "base_uri": "https://localhost:8080/"
        },
        "id": "jD2369RJH6h5",
        "outputId": "a002a727-bf4a-4168-9aee-238e56b81f92"
      },
      "execution_count": 26,
      "outputs": [
        {
          "output_type": "stream",
          "name": "stdout",
          "text": [
            "Go on. = To on.\n",
            "Go on. = To on.\n",
            "Go on. = To on.\n",
            "I see. = I see.\n",
            "I try. = I try.\n",
            "I won! = I won!\n",
            "I won! = I won!\n",
            "I won. = I won.\n",
            "Oh no! = Oh no!\n",
            "Get up. = Met up.\n",
            "Go now. = To now.\n",
            "Go now. = To now.\n",
            "Go now. = To now.\n",
            "Got it! = Not it!\n",
            "Got it! = Not it!\n",
            "Got it? = Not it?\n",
            "Got it? = Not it?\n",
            "Got it? = Not it?\n",
            "Hop in. = Top in.\n",
            "Hop in. = Top in.\n",
            "Hug me. = Dug me.\n",
            "Hug me. = Dug me.\n",
            "I fell. = I fell.\n",
            "I fell. = I fell.\n",
            "I know. = I know.\n",
            "I left. = I left.\n",
            "I left. = I left.\n",
            "I lied. = I lied.\n",
            "I lost. = I lost.\n",
            "I paid. = I paid.\n",
            "I'm 19. = I'm 19.\n",
            "I'm OK. = I'm of.\n",
            "I'm OK. = I'm of.\n",
            "No way! = To way!\n",
            "No way! = To way!\n",
            "No way! = To way!\n",
            "No way! = To way!\n",
            "No way! = To way!\n",
            "No way! = To way!\n",
            "No way! = To way!\n",
            "No way! = To way!\n",
            "No way! = To way!\n",
            "We try. = He try.\n",
            "We won. = He won.\n",
            "We won. = He won.\n",
            "We won. = He won.\n",
            "We won. = He won.\n",
            "Ask Tom. = Ask Tom.\n",
            "Be calm. = He calm.\n",
            "Be calm. = He calm.\n",
            "Be calm. = He calm.\n",
            "Be cool. = He cool.\n",
            "Be fair. = He fair.\n",
            "Be fair. = He fair.\n",
            "Be fair. = He fair.\n",
            "Be fair. = He fair.\n",
            "Be fair. = He fair.\n",
            "Be fair. = He fair.\n",
            "Be kind. = He kind.\n",
            "Be nice. = He nice.\n",
            "Be nice. = He nice.\n",
            "Be nice. = He nice.\n",
            "Be nice. = He nice.\n",
            "Be nice. = He nice.\n",
            "Be nice. = He nice.\n",
            "Beat it. = Seat it.\n",
            "Call me. = All me.\n",
            "Call me. = All me.\n",
            "Call us. = All us.\n",
            "Call us. = All us.\n",
            "Come in. = Some in.\n",
            "Come in. = Some in.\n",
            "Come in. = Some in.\n",
            "Come in. = Some in.\n",
            "Come on! = Some on!\n",
            "Come on. = Some on.\n",
            "Come on. = Some on.\n",
            "Come on. = Some on.\n",
            "Drop it! = Drop it!\n",
            "Drop it! = Drop it!\n",
            "Drop it! = Drop it!\n",
            "Drop it! = Drop it!\n",
            "Get Tom. = Met Tom.\n",
            "Get out! = Met out!\n",
            "Get out! = Met out!\n",
            "Get out! = Met out!\n",
            "Get out. = Met out.\n",
            "Get out. = Met out.\n",
            "Go away! = To away!\n",
            "Go away! = To away!\n",
            "Go away. = To away.\n",
            "Go away. = To away.\n",
            "Go away. = To away.\n",
            "Go away. = To away.\n",
            "Go away. = To away.\n",
            "Go away. = To away.\n",
            "Go away. = To away.\n",
            "Go away. = To away.\n",
            "Go home. = To home.\n",
            "Go home. = To home.\n"
          ]
        }
      ]
    }
  ]
}